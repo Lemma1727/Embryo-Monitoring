{
  "cells": [
    {
      "cell_type": "code",
      "execution_count": 3,
      "metadata": {
        "id": "kcojlkge_raG"
      },
      "outputs": [],
      "source": [
        "import numpy as np\n",
        "import pandas as pd\n",
        "import seaborn as sns\n",
        "from tensorflow import keras\n",
        "from sklearn.metrics import classification_report\n",
        "from sklearn.model_selection import train_test_split\n",
        "from sklearn.ensemble import RandomForestClassifier\n",
        "import matplotlib.pyplot as plt\n",
        "from easydict import EasyDict\n",
        "from sklearn.metrics import accuracy_score"
      ]
    },
    {
      "cell_type": "markdown",
      "metadata": {
        "id": "U3NlSQ-sEMkT"
      },
      "source": [
        "# 경로설정"
      ]
    },
    {
      "cell_type": "code",
      "execution_count": 4,
      "metadata": {
        "id": "w65-3Bcs_eTV"
      },
      "outputs": [],
      "source": [
        "cfg = EasyDict({\n",
        "    'dataset_path': './Monitoring/dataset/monitoring_dataset_distributed.npy',\n",
        "    'epochs': 100,\n",
        "    'lr': 0.1,\n",
        "    'weight_decay': 0.0001,\n",
        "    'momentum': 0.9,\n",
        "    'threshold': 0.5,\n",
        "})"
      ]
    },
    {
      "cell_type": "code",
      "execution_count": 5,
      "metadata": {
        "id": "fRF5_rql_sG-"
      },
      "outputs": [],
      "source": [
        "data = np.load(cfg.dataset_path)"
      ]
    },
    {
      "cell_type": "code",
      "execution_count": 6,
      "metadata": {
        "colab": {
          "base_uri": "https://localhost:8080/"
        },
        "id": "BWSH7rNlBILn",
        "outputId": "e7bfcd72-5944-4cba-f3b3-029c1a8e9373"
      },
      "outputs": [
        {
          "data": {
            "text/plain": [
              "array([[0.        , 0.5489832 , 0.        , ..., 0.12587614, 0.09326255,\n",
              "        0.5441178 ],\n",
              "       [0.        , 0.        , 0.        , ..., 0.        , 0.17283219,\n",
              "        0.10555376],\n",
              "       [0.21344315, 0.09608716, 0.        , ..., 0.        , 0.03724245,\n",
              "        0.        ],\n",
              "       ...,\n",
              "       [0.03493185, 0.4037363 , 0.        , ..., 0.        , 0.46157905,\n",
              "        0.        ],\n",
              "       [0.        , 0.        , 2.633469  , ..., 1.0653102 , 0.        ,\n",
              "        0.18814471],\n",
              "       [0.        , 1.3275399 , 0.        , ..., 0.11789932, 0.4255386 ,\n",
              "        0.26578477]], dtype=float32)"
            ]
          },
          "execution_count": 6,
          "metadata": {},
          "output_type": "execute_result"
        }
      ],
      "source": [
        "data[\"train_x\"]\n"
      ]
    },
    {
      "cell_type": "code",
      "execution_count": 18,
      "metadata": {
        "colab": {
          "base_uri": "https://localhost:8080/"
        },
        "id": "TTlMt0CiC7vp",
        "outputId": "186173a1-3792-464d-de18-b230300133b0"
      },
      "outputs": [
        {
          "data": {
            "text/plain": [
              "array([1, 1, 0, 1, 0, 0, 1, 0, 0, 0, 1, 0, 1, 0, 1, 0, 0, 0, 1, 0, 1, 0,\n",
              "       1, 1, 1, 0, 0, 0, 0, 1, 1, 0, 0, 0, 1, 1, 0, 1, 1, 0, 1, 1, 0, 0,\n",
              "       1, 0, 1, 0, 1, 0, 1, 1, 0, 0, 1, 0, 1, 0, 0, 1, 0, 1, 0, 1, 0, 1,\n",
              "       0, 0, 0, 0, 0, 1, 0, 1, 1, 0, 0, 0, 0, 0, 0, 0, 0, 1, 0, 0, 0, 0,\n",
              "       1, 1, 0, 0, 1, 0, 0, 0, 0, 0, 1, 1, 0, 0, 0, 0, 0, 0, 1, 0, 0, 0,\n",
              "       1, 1, 0, 0, 0, 0, 1, 0, 1, 0, 0, 0, 0, 0, 1, 0, 1, 0, 0, 0, 0, 0,\n",
              "       1, 1, 0, 0, 1, 0, 0, 1, 1, 0, 0, 1, 1, 0, 0, 0, 0, 0, 1, 1, 0, 1,\n",
              "       0, 1, 1, 0, 1, 0, 1, 0, 1, 0, 0, 0, 0, 0, 0, 1, 0, 1, 1, 0, 1, 0,\n",
              "       0, 1, 1, 0, 1, 1, 1, 1, 1, 0, 1, 1, 0, 1, 1, 1, 0, 1, 0, 0, 1, 1,\n",
              "       0, 0, 0, 0, 1, 1, 1, 0, 1, 0, 0, 1, 1, 0, 0, 0, 1, 0, 0, 1, 0, 1,\n",
              "       0, 0, 0, 1, 0, 1, 1, 0, 0, 0, 1, 1, 0, 0, 1, 0, 1, 0, 1, 0, 1, 1,\n",
              "       0, 1, 0, 1, 1, 0, 1, 0, 1, 1, 0, 1, 0, 1, 1, 1, 0, 0, 0, 0, 0, 1,\n",
              "       1, 1, 0, 0, 0, 1, 1, 0, 0, 1, 0, 0, 0, 1, 0, 0, 1, 0, 0, 0, 0, 0,\n",
              "       1, 0, 1, 1, 0, 0, 0, 1, 1, 0, 1, 1, 0, 0, 0, 0, 0, 0, 0, 1, 0, 0,\n",
              "       0, 0, 1, 1, 0, 1, 1, 0, 0, 1, 1, 1, 0, 1, 0, 0, 0, 0, 1, 0, 1, 1,\n",
              "       0, 1, 1, 0, 0, 0, 1, 0, 0, 0, 0, 1, 0, 1, 1, 1, 1, 0, 0, 0, 1, 1,\n",
              "       1, 0, 0, 0, 0, 0, 0, 1, 0, 1, 1, 0, 0, 0, 1, 1, 1, 0, 1, 0, 1, 1,\n",
              "       0, 1, 1, 1, 1, 1, 0, 1, 1, 1, 0, 0, 1, 0, 1, 1, 1, 1, 1, 1, 0, 0,\n",
              "       0, 0, 0, 1], dtype=int64)"
            ]
          },
          "execution_count": 18,
          "metadata": {},
          "output_type": "execute_result"
        }
      ],
      "source": [
        "data[\"train_y\"]\n"
      ]
    },
    {
      "cell_type": "code",
      "execution_count": 21,
      "metadata": {
        "colab": {
          "base_uri": "https://localhost:8080/"
        },
        "id": "6kDPoPj5C9R3",
        "outputId": "9253d705-8bb7-4ba6-c0a3-942d0cf4f628"
      },
      "outputs": [],
      "source": [
        "test = data[\"test_x\"]"
      ]
    },
    {
      "cell_type": "markdown",
      "metadata": {
        "id": "oWY7FJvwESx8"
      },
      "source": [
        "# train 설정"
      ]
    },
    {
      "cell_type": "code",
      "execution_count": 9,
      "metadata": {
        "id": "42vcVX0NDo9f"
      },
      "outputs": [],
      "source": [
        "X=data[\"train_x\"]\n",
        "y=data[\"train_y\"]"
      ]
    },
    {
      "cell_type": "code",
      "execution_count": 10,
      "metadata": {
        "id": "2nYEqmF6Dps8"
      },
      "outputs": [],
      "source": [
        "X_train, X_valid, y_train, y_valid = train_test_split(X, y, test_size = 0.1, random_state = 0)"
      ]
    },
    {
      "cell_type": "markdown",
      "metadata": {
        "id": "z6ZjCeJSEW1U"
      },
      "source": [
        "# 랜덤포레스트"
      ]
    },
    {
      "cell_type": "code",
      "execution_count": 11,
      "metadata": {
        "id": "VEFwKhLEEJsU"
      },
      "outputs": [],
      "source": [
        "rfc = RandomForestClassifier(n_estimators=100, random_state=0)\n",
        "rfc.fit(X_train, y_train)\n",
        "y_pred = rfc.predict(X_valid)"
      ]
    },
    {
      "cell_type": "code",
      "execution_count": 12,
      "metadata": {
        "colab": {
          "base_uri": "https://localhost:8080/"
        },
        "id": "L7tbgaqEEmgx",
        "outputId": "23b29821-39dd-4e48-d176-68e0f8ad923b"
      },
      "outputs": [
        {
          "name": "stdout",
          "output_type": "stream",
          "text": [
            "Model accuracy score with 10 decision-trees : 0.6500\n"
          ]
        }
      ],
      "source": [
        "print('Model accuracy score with 10 decision-trees : {0:0.4f}'. format(accuracy_score(y_valid, y_pred)))"
      ]
    },
    {
      "cell_type": "markdown",
      "metadata": {
        "id": "f-G1-_-oFtW1"
      },
      "source": [
        "# xgboost"
      ]
    },
    {
      "cell_type": "code",
      "execution_count": 13,
      "metadata": {
        "colab": {
          "base_uri": "https://localhost:8080/"
        },
        "id": "E4EemiBSGbBz",
        "outputId": "f10d96f6-1727-4216-9e96-d6ef263019fb"
      },
      "outputs": [
        {
          "name": "stderr",
          "output_type": "stream",
          "text": [
            "c:\\Users\\53789\\anaconda3\\lib\\site-packages\\xgboost\\sklearn.py:861: UserWarning: `eval_metric` in `fit` method is deprecated for better compatibility with scikit-learn, use `eval_metric` in constructor or`set_params` instead.\n",
            "  warnings.warn(\n",
            "c:\\Users\\53789\\anaconda3\\lib\\site-packages\\xgboost\\sklearn.py:861: UserWarning: `early_stopping_rounds` in `fit` method is deprecated for better compatibility with scikit-learn, use `early_stopping_rounds` in constructor or`set_params` instead.\n",
            "  warnings.warn(\n"
          ]
        },
        {
          "name": "stdout",
          "output_type": "stream",
          "text": [
            "[0]\tvalidation_0-logloss:0.64935\n",
            "[5]\tvalidation_0-logloss:0.61634\n",
            "[10]\tvalidation_0-logloss:0.58411\n",
            "[15]\tvalidation_0-logloss:0.57673\n",
            "[20]\tvalidation_0-logloss:0.58816\n",
            "[25]\tvalidation_0-logloss:0.55926\n",
            "[30]\tvalidation_0-logloss:0.57137\n",
            "[35]\tvalidation_0-logloss:0.56968\n",
            "[40]\tvalidation_0-logloss:0.54871\n",
            "[45]\tvalidation_0-logloss:0.55330\n",
            "[50]\tvalidation_0-logloss:0.56565\n",
            "[55]\tvalidation_0-logloss:0.56994\n",
            "[60]\tvalidation_0-logloss:0.56581\n",
            "[65]\tvalidation_0-logloss:0.56739\n",
            "[70]\tvalidation_0-logloss:0.56739\n",
            "[75]\tvalidation_0-logloss:0.56739\n",
            "[80]\tvalidation_0-logloss:0.56739\n",
            "[85]\tvalidation_0-logloss:0.56739\n",
            "[90]\tvalidation_0-logloss:0.56739\n",
            "[95]\tvalidation_0-logloss:0.56739\n",
            "[100]\tvalidation_0-logloss:0.56739\n",
            "[105]\tvalidation_0-logloss:0.56739\n",
            "[110]\tvalidation_0-logloss:0.56739\n",
            "[115]\tvalidation_0-logloss:0.56739\n",
            "[120]\tvalidation_0-logloss:0.56739\n",
            "[125]\tvalidation_0-logloss:0.56739\n",
            "[130]\tvalidation_0-logloss:0.56739\n",
            "[135]\tvalidation_0-logloss:0.56739\n",
            "[140]\tvalidation_0-logloss:0.56739\n",
            "[142]\tvalidation_0-logloss:0.56739\n"
          ]
        }
      ],
      "source": [
        "import xgboost as xgb\n",
        "\n",
        "X_train, X_valid, y_train, y_valid = train_test_split(X, y, test_size = 0.1, random_state = 0)\n",
        "\n",
        "model = xgb.XGBClassifier(objective='binary:logistic', learning_rate=0.2, max_depth=4, n_estimators = 3000, tree_method='gpu_hist', reg_lambda=0.2, reg_alpha=0.9)\n",
        "\n",
        "model.fit(X_train,y_train, \n",
        "          eval_set=[(X_valid,y_valid)],\n",
        "          eval_metric = 'logloss',\n",
        "          early_stopping_rounds=100,\n",
        "          verbose=5\n",
        "          )\n",
        "\n",
        "y_pred = model.predict(X_valid)"
      ]
    },
    {
      "cell_type": "code",
      "execution_count": 14,
      "metadata": {},
      "outputs": [
        {
          "data": {
            "text/plain": [
              "0.725"
            ]
          },
          "execution_count": 14,
          "metadata": {},
          "output_type": "execute_result"
        }
      ],
      "source": [
        "accuracy_score(y_valid, y_pred)"
      ]
    },
    {
      "cell_type": "code",
      "execution_count": 15,
      "metadata": {},
      "outputs": [
        {
          "data": {
            "text/plain": [
              "'1.7.1'"
            ]
          },
          "execution_count": 15,
          "metadata": {},
          "output_type": "execute_result"
        }
      ],
      "source": [
        "xgb.__version__"
      ]
    },
    {
      "cell_type": "code",
      "execution_count": 16,
      "metadata": {
        "colab": {
          "base_uri": "https://localhost:8080/"
        },
        "id": "QN5LoesJIjdq",
        "outputId": "097bd0d8-8f92-41b2-bdf8-b0bb88bcdb42"
      },
      "outputs": [
        {
          "name": "stdout",
          "output_type": "stream",
          "text": [
            "[1 0 1 0 1 0 1 1 0 1 0 1 0 0 1 1 1 1 0 0 0 0 0 0 0 0 0 0 1 0 1 1 0 1 1 1 0\n",
            " 0 0 1] [1 0 1 1 1 0 1 0 0 1 1 0 0 0 1 1 1 1 1 0 0 0 1 1 0 1 0 0 1 0 0 0 0 1 1 0 0\n",
            " 0 0 1]\n",
            "40\n"
          ]
        }
      ],
      "source": [
        "print(y_pred,y_valid)\n",
        "print(len(y_pred))"
      ]
    },
    {
      "cell_type": "code",
      "execution_count": 17,
      "metadata": {
        "colab": {
          "base_uri": "https://localhost:8080/"
        },
        "id": "OTZxAj2XI5Ai",
        "outputId": "2450a281-007f-4942-805d-c97bfe3ab68b"
      },
      "outputs": [
        {
          "name": "stdout",
          "output_type": "stream",
          "text": [
            "Model accuracy score with 10 decision-trees : 0.7250\n"
          ]
        }
      ],
      "source": [
        "print('Model accuracy score with 10 decision-trees : {0:0.4f}'. format(accuracy_score(y_valid, y_pred)))"
      ]
    },
    {
      "cell_type": "code",
      "execution_count": 26,
      "metadata": {},
      "outputs": [],
      "source": [
        "pred = model.predict(test)\n",
        "\n",
        "df = pd.DataFrame({'pred': pred})\n",
        "df.to_csv('Monitoring/monitoring-submission.csv',header=True, index=True, index_label='idx')"
      ]
    }
  ],
  "metadata": {
    "accelerator": "GPU",
    "colab": {
      "collapsed_sections": [],
      "provenance": []
    },
    "gpuClass": "standard",
    "kernelspec": {
      "display_name": "Python 3.9.12 ('base')",
      "language": "python",
      "name": "python3"
    },
    "language_info": {
      "codemirror_mode": {
        "name": "ipython",
        "version": 3
      },
      "file_extension": ".py",
      "mimetype": "text/x-python",
      "name": "python",
      "nbconvert_exporter": "python",
      "pygments_lexer": "ipython3",
      "version": "3.9.12"
    },
    "vscode": {
      "interpreter": {
        "hash": "d275b221a9f391fbf783f683f4c0f139c0b53e23fb8188a78d35607ff4a62fae"
      }
    }
  },
  "nbformat": 4,
  "nbformat_minor": 0
}
